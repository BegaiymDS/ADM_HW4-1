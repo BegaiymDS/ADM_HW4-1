{
 "cells": [
  {
   "cell_type": "code",
   "execution_count": 6,
   "metadata": {},
   "outputs": [],
   "source": [
    "import numpy as np\n",
    "import pandas as pd"
   ]
  },
  {
   "cell_type": "markdown",
   "metadata": {},
   "source": [
    "# 1. Recommendation sytem"
   ]
  },
  {
   "cell_type": "markdown",
   "metadata": {},
   "source": [
    "We load the csv data into a pandas dataframe and do a quick check of the data."
   ]
  },
  {
   "cell_type": "code",
   "execution_count": 53,
   "metadata": {},
   "outputs": [
    {
     "data": {
      "text/html": [
       "<div>\n",
       "<style scoped>\n",
       "    .dataframe tbody tr th:only-of-type {\n",
       "        vertical-align: middle;\n",
       "    }\n",
       "\n",
       "    .dataframe tbody tr th {\n",
       "        vertical-align: top;\n",
       "    }\n",
       "\n",
       "    .dataframe thead th {\n",
       "        text-align: right;\n",
       "    }\n",
       "</style>\n",
       "<table border=\"1\" class=\"dataframe\">\n",
       "  <thead>\n",
       "    <tr style=\"text-align: right;\">\n",
       "      <th></th>\n",
       "      <th>datetime</th>\n",
       "      <th>duration</th>\n",
       "      <th>title</th>\n",
       "      <th>genres</th>\n",
       "      <th>release_date</th>\n",
       "      <th>movie_id</th>\n",
       "      <th>user_id</th>\n",
       "    </tr>\n",
       "  </thead>\n",
       "  <tbody>\n",
       "    <tr>\n",
       "      <th>58773</th>\n",
       "      <td>2017-01-01 01:15:09</td>\n",
       "      <td>0.0</td>\n",
       "      <td>Angus, Thongs and Perfect Snogging</td>\n",
       "      <td>Comedy, Drama, Romance</td>\n",
       "      <td>2008-07-25</td>\n",
       "      <td>26bd5987e8</td>\n",
       "      <td>1dea19f6fe</td>\n",
       "    </tr>\n",
       "    <tr>\n",
       "      <th>58774</th>\n",
       "      <td>2017-01-01 13:56:02</td>\n",
       "      <td>0.0</td>\n",
       "      <td>The Curse of Sleeping Beauty</td>\n",
       "      <td>Fantasy, Horror, Mystery, Thriller</td>\n",
       "      <td>2016-06-02</td>\n",
       "      <td>f26ed2675e</td>\n",
       "      <td>544dcbc510</td>\n",
       "    </tr>\n",
       "    <tr>\n",
       "      <th>58775</th>\n",
       "      <td>2017-01-01 15:17:47</td>\n",
       "      <td>10530.0</td>\n",
       "      <td>London Has Fallen</td>\n",
       "      <td>Action, Thriller</td>\n",
       "      <td>2016-03-04</td>\n",
       "      <td>f77e500e7a</td>\n",
       "      <td>7cbcc791bf</td>\n",
       "    </tr>\n",
       "    <tr>\n",
       "      <th>58776</th>\n",
       "      <td>2017-01-01 16:04:13</td>\n",
       "      <td>49.0</td>\n",
       "      <td>Vendetta</td>\n",
       "      <td>Action, Drama</td>\n",
       "      <td>2015-06-12</td>\n",
       "      <td>c74aec7673</td>\n",
       "      <td>ebf43c36b6</td>\n",
       "    </tr>\n",
       "    <tr>\n",
       "      <th>58777</th>\n",
       "      <td>2017-01-01 19:16:37</td>\n",
       "      <td>0.0</td>\n",
       "      <td>The SpongeBob SquarePants Movie</td>\n",
       "      <td>Animation, Action, Adventure, Comedy, Family, ...</td>\n",
       "      <td>2004-11-19</td>\n",
       "      <td>a80d6fc2aa</td>\n",
       "      <td>a57c992287</td>\n",
       "    </tr>\n",
       "  </tbody>\n",
       "</table>\n",
       "</div>"
      ],
      "text/plain": [
       "                  datetime  duration                               title  \\\n",
       "58773  2017-01-01 01:15:09       0.0  Angus, Thongs and Perfect Snogging   \n",
       "58774  2017-01-01 13:56:02       0.0        The Curse of Sleeping Beauty   \n",
       "58775  2017-01-01 15:17:47   10530.0                   London Has Fallen   \n",
       "58776  2017-01-01 16:04:13      49.0                            Vendetta   \n",
       "58777  2017-01-01 19:16:37       0.0     The SpongeBob SquarePants Movie   \n",
       "\n",
       "                                                  genres release_date  \\\n",
       "58773                             Comedy, Drama, Romance   2008-07-25   \n",
       "58774                 Fantasy, Horror, Mystery, Thriller   2016-06-02   \n",
       "58775                                   Action, Thriller   2016-03-04   \n",
       "58776                                      Action, Drama   2015-06-12   \n",
       "58777  Animation, Action, Adventure, Comedy, Family, ...   2004-11-19   \n",
       "\n",
       "         movie_id     user_id  \n",
       "58773  26bd5987e8  1dea19f6fe  \n",
       "58774  f26ed2675e  544dcbc510  \n",
       "58775  f77e500e7a  7cbcc791bf  \n",
       "58776  c74aec7673  ebf43c36b6  \n",
       "58777  a80d6fc2aa  a57c992287  "
      ]
     },
     "execution_count": 53,
     "metadata": {},
     "output_type": "execute_result"
    }
   ],
   "source": [
    "data = 'archive/vodclickstream_uk_movies_03.csv'\n",
    "df = pd.read_csv(data, sep=',', header=0, index_col=0)\n",
    "df.head()"
   ]
  },
  {
   "cell_type": "code",
   "execution_count": 54,
   "metadata": {},
   "outputs": [
    {
     "data": {
      "text/plain": [
       "(671736, 7)"
      ]
     },
     "execution_count": 54,
     "metadata": {},
     "output_type": "execute_result"
    }
   ],
   "source": [
    "df.shape"
   ]
  },
  {
   "cell_type": "code",
   "execution_count": 55,
   "metadata": {},
   "outputs": [
    {
     "name": "stdout",
     "output_type": "stream",
     "text": [
      "<class 'pandas.core.frame.DataFrame'>\n",
      "Index: 671736 entries, 58773 to 730508\n",
      "Data columns (total 7 columns):\n",
      " #   Column        Non-Null Count   Dtype  \n",
      "---  ------        --------------   -----  \n",
      " 0   datetime      671736 non-null  object \n",
      " 1   duration      671736 non-null  float64\n",
      " 2   title         671736 non-null  object \n",
      " 3   genres        671736 non-null  object \n",
      " 4   release_date  671736 non-null  object \n",
      " 5   movie_id      671736 non-null  object \n",
      " 6   user_id       671736 non-null  object \n",
      "dtypes: float64(1), object(6)\n",
      "memory usage: 41.0+ MB\n"
     ]
    }
   ],
   "source": [
    "df.info()"
   ]
  },
  {
   "cell_type": "markdown",
   "metadata": {},
   "source": [
    "We can see that there is data available for each user for the movies the user clicked on. We are interested in gathering the title and genre of the maximum top 10 movies that each user clicked on regarding the number of clicks. "
   ]
  },
  {
   "cell_type": "markdown",
   "metadata": {},
   "source": [
    "What are the top 10 most clicked on movies?"
   ]
  },
  {
   "cell_type": "code",
   "execution_count": 56,
   "metadata": {},
   "outputs": [
    {
     "data": {
      "text/plain": [
       "title\n",
       "Black Mirror: Bandersnatch                      6489\n",
       "Bright                                          3392\n",
       "Avengers: Age of Ultron                         2898\n",
       "Annihilation                                    2873\n",
       "Bird Box                                        2676\n",
       "Hot Fuzz                                        2674\n",
       "Deadpool                                        2576\n",
       "FYRE: The Greatest Party That Never Happened    2389\n",
       "The Big Short                                   2204\n",
       "The Hitman's Bodyguard                          2179\n",
       "Name: count, dtype: int64"
      ]
     },
     "execution_count": 56,
     "metadata": {},
     "output_type": "execute_result"
    }
   ],
   "source": [
    "df.title.value_counts()[:10]"
   ]
  },
  {
   "cell_type": "markdown",
   "metadata": {},
   "source": [
    "What are the top 10 most clicked on movies for each user?"
   ]
  },
  {
   "cell_type": "code",
   "execution_count": 40,
   "metadata": {},
   "outputs": [
    {
     "data": {
      "text/html": [
       "<div>\n",
       "<style scoped>\n",
       "    .dataframe tbody tr th:only-of-type {\n",
       "        vertical-align: middle;\n",
       "    }\n",
       "\n",
       "    .dataframe tbody tr th {\n",
       "        vertical-align: top;\n",
       "    }\n",
       "\n",
       "    .dataframe thead th {\n",
       "        text-align: right;\n",
       "    }\n",
       "</style>\n",
       "<table border=\"1\" class=\"dataframe\">\n",
       "  <thead>\n",
       "    <tr style=\"text-align: right;\">\n",
       "      <th></th>\n",
       "      <th></th>\n",
       "      <th></th>\n",
       "      <th>count</th>\n",
       "    </tr>\n",
       "    <tr>\n",
       "      <th>user_id</th>\n",
       "      <th>title</th>\n",
       "      <th>genres</th>\n",
       "      <th></th>\n",
       "    </tr>\n",
       "  </thead>\n",
       "  <tbody>\n",
       "    <tr>\n",
       "      <th>00004e2862</th>\n",
       "      <th>Hannibal</th>\n",
       "      <th>Crime, Drama, Thriller</th>\n",
       "      <td>1</td>\n",
       "    </tr>\n",
       "    <tr>\n",
       "      <th rowspan=\"4\" valign=\"top\">000052a0a0</th>\n",
       "      <th>Looper</th>\n",
       "      <th>Action, Drama, Sci-Fi, Thriller</th>\n",
       "      <td>9</td>\n",
       "    </tr>\n",
       "    <tr>\n",
       "      <th>Frailty</th>\n",
       "      <th>Crime, Drama, Thriller</th>\n",
       "      <td>3</td>\n",
       "    </tr>\n",
       "    <tr>\n",
       "      <th>Jumanji</th>\n",
       "      <th>Adventure, Comedy, Family, Fantasy</th>\n",
       "      <td>3</td>\n",
       "    </tr>\n",
       "    <tr>\n",
       "      <th>Resident Evil</th>\n",
       "      <th>Action, Horror, Sci-Fi</th>\n",
       "      <td>2</td>\n",
       "    </tr>\n",
       "    <tr>\n",
       "      <th>...</th>\n",
       "      <th>...</th>\n",
       "      <th>...</th>\n",
       "      <td>...</td>\n",
       "    </tr>\n",
       "    <tr>\n",
       "      <th rowspan=\"2\" valign=\"top\">fffeac83be</th>\n",
       "      <th>Fight Club</th>\n",
       "      <th>Drama</th>\n",
       "      <td>1</td>\n",
       "    </tr>\n",
       "    <tr>\n",
       "      <th>Enemy at the Gates</th>\n",
       "      <th>Drama, History, War</th>\n",
       "      <td>1</td>\n",
       "    </tr>\n",
       "    <tr>\n",
       "      <th rowspan=\"2\" valign=\"top\">ffff2c5f9e</th>\n",
       "      <th>Hot Fuzz</th>\n",
       "      <th>Action, Comedy, Mystery, Thriller</th>\n",
       "      <td>1</td>\n",
       "    </tr>\n",
       "    <tr>\n",
       "      <th>Forks Over Knives</th>\n",
       "      <th>Documentary</th>\n",
       "      <td>1</td>\n",
       "    </tr>\n",
       "    <tr>\n",
       "      <th>ffffd36adf</th>\n",
       "      <th>Dead Man Walking</th>\n",
       "      <th>Crime, Drama</th>\n",
       "      <td>1</td>\n",
       "    </tr>\n",
       "  </tbody>\n",
       "</table>\n",
       "<p>502343 rows × 1 columns</p>\n",
       "</div>"
      ],
      "text/plain": [
       "                                                                  count\n",
       "user_id    title              genres                                   \n",
       "00004e2862 Hannibal           Crime, Drama, Thriller                  1\n",
       "000052a0a0 Looper             Action, Drama, Sci-Fi, Thriller         9\n",
       "           Frailty            Crime, Drama, Thriller                  3\n",
       "           Jumanji            Adventure, Comedy, Family, Fantasy      3\n",
       "           Resident Evil      Action, Horror, Sci-Fi                  2\n",
       "...                                                                 ...\n",
       "fffeac83be Fight Club         Drama                                   1\n",
       "           Enemy at the Gates Drama, History, War                     1\n",
       "ffff2c5f9e Hot Fuzz           Action, Comedy, Mystery, Thriller       1\n",
       "           Forks Over Knives  Documentary                             1\n",
       "ffffd36adf Dead Man Walking   Crime, Drama                            1\n",
       "\n",
       "[502343 rows x 1 columns]"
      ]
     },
     "execution_count": 40,
     "metadata": {},
     "output_type": "execute_result"
    }
   ],
   "source": [
    "clicks = df.groupby(['user_id'])[[\"title\", \"genres\"]].value_counts().to_frame()\n",
    "clicks"
   ]
  },
  {
   "cell_type": "code",
   "execution_count": 37,
   "metadata": {},
   "outputs": [
    {
     "data": {
      "text/html": [
       "<div>\n",
       "<style scoped>\n",
       "    .dataframe tbody tr th:only-of-type {\n",
       "        vertical-align: middle;\n",
       "    }\n",
       "\n",
       "    .dataframe tbody tr th {\n",
       "        vertical-align: top;\n",
       "    }\n",
       "\n",
       "    .dataframe thead th {\n",
       "        text-align: right;\n",
       "    }\n",
       "</style>\n",
       "<table border=\"1\" class=\"dataframe\">\n",
       "  <thead>\n",
       "    <tr style=\"text-align: right;\">\n",
       "      <th></th>\n",
       "      <th></th>\n",
       "      <th>count</th>\n",
       "    </tr>\n",
       "    <tr>\n",
       "      <th>title</th>\n",
       "      <th>genres</th>\n",
       "      <th></th>\n",
       "    </tr>\n",
       "  </thead>\n",
       "  <tbody>\n",
       "    <tr>\n",
       "      <th>Twilight</th>\n",
       "      <th>Drama, Fantasy, Romance</th>\n",
       "      <td>88</td>\n",
       "    </tr>\n",
       "    <tr>\n",
       "      <th>The Twilight Saga: New Moon</th>\n",
       "      <th>Adventure, Drama, Fantasy, Romance</th>\n",
       "      <td>32</td>\n",
       "    </tr>\n",
       "    <tr>\n",
       "      <th>The Twilight Saga: Eclipse</th>\n",
       "      <th>Adventure, Drama, Fantasy, Romance</th>\n",
       "      <td>10</td>\n",
       "    </tr>\n",
       "    <tr>\n",
       "      <th>The Twilight Saga: Breaking Dawn: Part 1</th>\n",
       "      <th>Adventure, Drama, Fantasy, Romance, Thriller</th>\n",
       "      <td>9</td>\n",
       "    </tr>\n",
       "    <tr>\n",
       "      <th>The Twilight Saga: Breaking Dawn: Part 2</th>\n",
       "      <th>Adventure, Drama, Fantasy, Romance</th>\n",
       "      <td>6</td>\n",
       "    </tr>\n",
       "    <tr>\n",
       "      <th>Monster House</th>\n",
       "      <th>Animation, Comedy, Family, Fantasy, Mystery</th>\n",
       "      <td>5</td>\n",
       "    </tr>\n",
       "    <tr>\n",
       "      <th>Someone Great</th>\n",
       "      <th>Comedy, Romance</th>\n",
       "      <td>4</td>\n",
       "    </tr>\n",
       "    <tr>\n",
       "      <th>Suicide Squad</th>\n",
       "      <th>Action, Adventure, Fantasy, Sci-Fi</th>\n",
       "      <td>4</td>\n",
       "    </tr>\n",
       "    <tr>\n",
       "      <th>The Hangover Part II</th>\n",
       "      <th>Comedy</th>\n",
       "      <td>3</td>\n",
       "    </tr>\n",
       "    <tr>\n",
       "      <th>The Hangover Part III</th>\n",
       "      <th>Comedy, Crime, Romance</th>\n",
       "      <td>3</td>\n",
       "    </tr>\n",
       "  </tbody>\n",
       "</table>\n",
       "</div>"
      ],
      "text/plain": [
       "                                                                                       count\n",
       "title                                    genres                                             \n",
       "Twilight                                 Drama, Fantasy, Romance                          88\n",
       "The Twilight Saga: New Moon              Adventure, Drama, Fantasy, Romance               32\n",
       "The Twilight Saga: Eclipse               Adventure, Drama, Fantasy, Romance               10\n",
       "The Twilight Saga: Breaking Dawn: Part 1 Adventure, Drama, Fantasy, Romance, Thriller      9\n",
       "The Twilight Saga: Breaking Dawn: Part 2 Adventure, Drama, Fantasy, Romance                6\n",
       "Monster House                            Animation, Comedy, Family, Fantasy, Mystery       5\n",
       "Someone Great                            Comedy, Romance                                   4\n",
       "Suicide Squad                            Action, Adventure, Fantasy, Sci-Fi                4\n",
       "The Hangover Part II                     Comedy                                            3\n",
       "The Hangover Part III                    Comedy, Crime, Romance                            3"
      ]
     },
     "execution_count": 37,
     "metadata": {},
     "output_type": "execute_result"
    }
   ],
   "source": [
    "clicks.loc[\"7cdfd0e14a\"].head(10)"
   ]
  },
  {
   "cell_type": "markdown",
   "metadata": {},
   "source": [
    "We also investigate how many unique genres are there in the dataset and what are their values."
   ]
  },
  {
   "cell_type": "code",
   "execution_count": 59,
   "metadata": {},
   "outputs": [
    {
     "name": "stdout",
     "output_type": "stream",
     "text": [
      "{'Sci-Fi', 'History', 'Action', 'Biography', 'Romance', 'Sport', 'NOT AVAILABLE', 'Documentary', 'Talk-Show', 'Horror', 'Comedy', 'Mystery', 'Music', 'Film-Noir', 'Fantasy', 'Musical', 'Reality-TV', 'Crime', 'Short', 'Family', 'Drama', 'Animation', 'News', 'Thriller', 'Adventure', 'Western', 'War'}\n"
     ]
    }
   ],
   "source": [
    "unique_genres = set()\n",
    "for genres in df.genres:\n",
    "    unique_genres.update(genres.split(\", \"))\n",
    "print(unique_genres)"
   ]
  },
  {
   "cell_type": "markdown",
   "metadata": {},
   "source": [
    "We want to remove the movies that have no genre information."
   ]
  },
  {
   "cell_type": "code",
   "execution_count": 60,
   "metadata": {},
   "outputs": [],
   "source": [
    "df = df[df.genres != 'NOT AVAILABLE']"
   ]
  },
  {
   "cell_type": "markdown",
   "metadata": {},
   "source": [
    "## 1.2 Minhash Signatures"
   ]
  },
  {
   "cell_type": "markdown",
   "metadata": {},
   "source": [
    "Using the movie genre and user_ids, we will implement our min-hash signatures so that users with similar interests in a genre appear in the same bucket."
   ]
  },
  {
   "cell_type": "code",
   "execution_count": 61,
   "metadata": {},
   "outputs": [],
   "source": [
    "# Get unique genres for each movie watched by a user\n",
    "df.genres = df.genres.str.split(', ').apply(set)\n",
    "# Get unique genres for each user\n",
    "user_genres = df.groupby('user_id').genres.agg(lambda x: set.union(*x))"
   ]
  },
  {
   "cell_type": "code",
   "execution_count": 62,
   "metadata": {},
   "outputs": [
    {
     "data": {
      "text/plain": [
       "user_id\n",
       "00004e2862                             {Thriller, Drama, Crime}\n",
       "000052a0a0    {Horror, Comedy, Mystery, Music, Fantasy, Crim...\n",
       "000090e7c8                          {Sci-Fi, Thriller, Mystery}\n",
       "000118a755                                             {Horror}\n",
       "000296842d                   {Mystery, Thriller, Sci-Fi, Drama}\n",
       "Name: genres, dtype: object"
      ]
     },
     "execution_count": 62,
     "metadata": {},
     "output_type": "execute_result"
    }
   ],
   "source": [
    "user_genres.head()"
   ]
  },
  {
   "cell_type": "markdown",
   "metadata": {},
   "source": [
    "We define two functions:\n",
    "- `MinHashSignature` which takes in a set of genres for a user and returns the min-hash signature for that list of genres.\n",
    "- `Similarity` which takes in two min-hash signatures and returns the similarity between the two signatures."
   ]
  },
  {
   "cell_type": "code",
   "execution_count": 63,
   "metadata": {},
   "outputs": [],
   "source": [
    "# Function to compute the Minhash signature for each user\n",
    "def Minhash_Signature(user_genres, NUM_HASHES):\n",
    "    all_genres = set.union(*user_genres)\n",
    "    num_genres = len(all_genres)\n",
    "\n",
    "    # Assign a unique index to each genre\n",
    "    genre_to_int = {genre: idx for idx, genre in enumerate(all_genres)}\n",
    "\n",
    "    # Generate random hash functions\n",
    "    hash_funcs = [lambda x, a=a, b=b: (a * genre_to_int[x] + b) % num_genres \n",
    "                    for a, b in zip(np.random.randint(1, 100, NUM_HASHES),\n",
    "                                    np.random.randint(1, 100, NUM_HASHES))]\n",
    "\n",
    "    # Initialize signature with maximum value for each hash function\n",
    "    user_signature = np.full((NUM_HASHES, user_genres.size), np.inf)\n",
    "\n",
    "    # Iterate through each genre in the set\n",
    "    # and update the signature with minimum hashed value for each genre\n",
    "    for i, hash_func in enumerate(hash_funcs):\n",
    "        for j, genres in enumerate(user_genres):\n",
    "            for genre in genres:\n",
    "                # Hash the genre indices using each hash function and update the signature\n",
    "                hash_value = hash_func(genre)\n",
    "                user_signature[i, j] = min(user_signature[i, j], hash_value)\n",
    "\n",
    "    # Convert the signature to a pandas Series\n",
    "    user_signature = pd.Series(index=user_genres.index, data=user_signature.T.tolist())\n",
    "    return user_signature\n",
    "\n",
    "def minhash_signature(user_genres, num_hashes):\n",
    "    all_genres = set.union(*user_genres)\n",
    "    num_genres = len(all_genres)\n",
    "    genre_to_int = {genre: idx for idx, genre in enumerate(all_genres)}\n",
    "\n",
    "    hash_funcs = [\n",
    "        (np.random.randint(1, 100), np.random.randint(1, 100)) for _ in range(num_hashes)\n",
    "    ]\n",
    "\n",
    "    user_signature = np.full((len(user_genres), num_hashes), np.inf)\n",
    "\n",
    "    for i, (a, b) in enumerate(hash_funcs):\n",
    "        for j, genres in enumerate(user_genres):\n",
    "            for genre in genres:\n",
    "                hash_value = (a * genre_to_int[genre] + b) % num_genres\n",
    "                user_signature[j, i] = min(user_signature[j, i], hash_value)\n",
    "\n",
    "    return pd.Series(user_signature.tolist(), index=user_genres.index)\n",
    "\n",
    "\n",
    "# Function to compute the similarity between two users\n",
    "def Similarity(user1_signature, user2_signature):\n",
    "    # Compute the fraction of matching values\n",
    "    sim = (np.array(user1_signature) == np.array(user2_signature))\n",
    "    return sim.sum() / sim.size"
   ]
  },
  {
   "cell_type": "code",
   "execution_count": 92,
   "metadata": {},
   "outputs": [
    {
     "data": {
      "text/plain": [
       "user_id\n",
       "00004e2862    [5.0, 0.0, 0.0, 0.0, 5.0, 0.0, 8.0, 2.0, 16.0,...\n",
       "000052a0a0    [3.0, 0.0, 0.0, 0.0, 0.0, 0.0, 0.0, 1.0, 0.0, ...\n",
       "000090e7c8    [17.0, 6.0, 0.0, 4.0, 0.0, 9.0, 8.0, 5.0, 6.0,...\n",
       "000118a755    [15.0, 8.0, 20.0, 2.0, 22.0, 19.0, 18.0, 17.0,...\n",
       "000296842d    [17.0, 6.0, 0.0, 4.0, 0.0, 0.0, 8.0, 2.0, 6.0,...\n",
       "dtype: object"
      ]
     },
     "execution_count": 92,
     "metadata": {},
     "output_type": "execute_result"
    }
   ],
   "source": [
    "# Select the number of hash functions\n",
    "NUM_HASHES = 15\n",
    "\n",
    "# Compute the Minhash signature for each user\n",
    "#signatures = Minhash_Signature(user_genres, NUM_HASHES)\n",
    "signatures = minhash_signature(user_genres, NUM_HASHES)\n",
    "\n",
    "signatures.head()"
   ]
  },
  {
   "cell_type": "markdown",
   "metadata": {},
   "source": [
    "Now we can use the min-hash signatures to find similar users. We will show an example with two users and see if they are similar."
   ]
  },
  {
   "cell_type": "code",
   "execution_count": 93,
   "metadata": {},
   "outputs": [
    {
     "data": {
      "text/plain": [
       "0.5333333333333333"
      ]
     },
     "execution_count": 93,
     "metadata": {},
     "output_type": "execute_result"
    }
   ],
   "source": [
    "id1 = '00004e2862'\n",
    "id2 = '000296842d'\n",
    "user1_signature = signatures[id1]\n",
    "user2_signature = signatures[id2]\n",
    "\n",
    "Similarity(user1_signature, user2_signature)"
   ]
  },
  {
   "cell_type": "markdown",
   "metadata": {},
   "source": [
    "The similarity between the two users is 0.5, which indicates they do have similar interests.\n",
    "Let's verify this by looking at the genres of the movies they clicked on."
   ]
  },
  {
   "cell_type": "code",
   "execution_count": 94,
   "metadata": {},
   "outputs": [
    {
     "name": "stdout",
     "output_type": "stream",
     "text": [
      "282575    Crime, Drama, Thriller\n",
      "Name: genres, dtype: object\n",
      "578906    Drama, Mystery, Sci-Fi, Thriller\n",
      "578960    Drama, Mystery, Sci-Fi, Thriller\n",
      "579156    Drama, Mystery, Sci-Fi, Thriller\n",
      "579199    Drama, Mystery, Sci-Fi, Thriller\n",
      "579565    Drama, Mystery, Sci-Fi, Thriller\n",
      "579712    Drama, Mystery, Sci-Fi, Thriller\n",
      "579747    Drama, Mystery, Sci-Fi, Thriller\n",
      "580135    Drama, Mystery, Sci-Fi, Thriller\n",
      "Name: genres, dtype: object\n"
     ]
    }
   ],
   "source": [
    "print(df.genres.loc[df.user_id == id1])\n",
    "print(df.genres.loc[df.user_id == id2])"
   ]
  },
  {
   "cell_type": "markdown",
   "metadata": {},
   "source": [
    "Indeed, we can see that both the users enjoy the Drama and Thriller genres."
   ]
  },
  {
   "cell_type": "markdown",
   "metadata": {},
   "source": [
    "## 1.3 Locality-Sensitive Hashing (LSH)"
   ]
  },
  {
   "cell_type": "markdown",
   "metadata": {},
   "source": [
    "Next, given some `user_ids`, we want to recommend at most five movies to the user to watch based on the movies clicked by similar users.\n",
    "\n",
    "To recommend at most five movies given a `user_id`, we will use the following procedure:\n",
    "\n",
    "- Identify the two most similar users to this user.\n",
    "- If these two users have any movies in common, recommend those movies based on the total number of clicks by these users.\n",
    "- If there are no more common movies, propose the most clicked movies by the most similar user first, followed by the other user."
   ]
  },
  {
   "cell_type": "code",
   "execution_count": 73,
   "metadata": {},
   "outputs": [
    {
     "data": {
      "text/plain": [
       "user_id     title      \n",
       "00004e2862  Hannibal       1\n",
       "000052a0a0  Ant-Man        1\n",
       "            Drive Angry    1\n",
       "            Frailty        3\n",
       "            Green Room     1\n",
       "dtype: int64"
      ]
     },
     "execution_count": 73,
     "metadata": {},
     "output_type": "execute_result"
    }
   ],
   "source": [
    "user_movie_clicks = df.groupby(['user_id', 'title']).size()\n",
    "user_movie_clicks.head()"
   ]
  },
  {
   "cell_type": "code",
   "execution_count": 90,
   "metadata": {},
   "outputs": [],
   "source": [
    "# Function to compute the similarity between two users\n",
    "def Recomend(target_user, user_signature, user_movie_clicks):\n",
    "    # Drop the target user from the user_signature Series and compute each similarity\n",
    "    similarities = user_signature.drop(target_user).apply(lambda x: Similarity(x, user_signature[target_user]))\n",
    "\n",
    "    # Select the top 2 most similar users\n",
    "    top2_similar_users = pd.Series(similarities).nlargest(2)\n",
    "\n",
    "    # Get the movie clicks for the top 2 similar users\n",
    "    similar_user_movie_clicks = [user_movie_clicks[top2_similar_users.index[i]] for i in range(2)]\n",
    "    # Sort the movie clicks in descending order\n",
    "    similar_user_movie_clicks = [similar_user_movie_clicks[i].sort_values(ascending=False) for i in range(2)]\n",
    "    \n",
    "    # Get the common movies watched by the top 2 similar users\n",
    "    common_movies = set.intersection(*[set(similar_user_movie_clicks[i].index) for i in range(2)])\n",
    "    common_movies = list(common_movies)\n",
    "\n",
    "    # Get the total number of clicks for the common movies\n",
    "    total_clicks = sum([similar_user_movie_clicks[i][common_movies] for i in range(2)])\n",
    "\n",
    "    # Sort the movies in descending order of total clicks\n",
    "    recomendations = total_clicks.sort_values(ascending=False).index.tolist()\n",
    "\n",
    "    # Add the top 5 movies to the list of recommendations\n",
    "    for i in range(2):\n",
    "        recomendations += similar_user_movie_clicks[i].index.tolist()\n",
    "    \n",
    "    # Remove duplicates from the list of recommendations\n",
    "    recomendations = list(set(recomendations))\n",
    "    \n",
    "    #Remove movies already clicked on by the target user\n",
    "    recomendations = [movie for movie in recomendations if movie not in user_movie_clicks[target_user].index.tolist()]\n",
    "\n",
    "    # Cut the list to top 5 movies\n",
    "    if len(recomendations) > 5:\n",
    "        recomendations = recomendations[:5]\n",
    "\n",
    "    return recomendations, top2_similar_users"
   ]
  },
  {
   "cell_type": "code",
   "execution_count": 79,
   "metadata": {},
   "outputs": [
    {
     "data": {
      "text/plain": [
       "title                                            genres                                     \n",
       "Wild Child                                       Comedy, Drama, Romance                         23\n",
       "Zapped                                           Comedy, Family, Fantasy                        19\n",
       "Barely Lethal                                    Action, Comedy                                 18\n",
       "#Horror                                          Crime, Drama, Horror, Mystery, Thriller        16\n",
       "Innocence                                        Fantasy, Horror, Mystery, Romance, Thriller    13\n",
       "You Get Me                                       Crime, Drama, Romance, Thriller                12\n",
       "Minor Details                                    Adventure, Family, Mystery                     12\n",
       "Molly Moon and the Incredible Book of Hypnotism  Adventure, Family, Fantasy                     10\n",
       "The 5th Wave                                     Action, Adventure, Sci-Fi, Thriller            10\n",
       "IBOY                                             Action, Crime, Sci-Fi, Thriller                10\n",
       "dtype: int64"
      ]
     },
     "execution_count": 79,
     "metadata": {},
     "output_type": "execute_result"
    }
   ],
   "source": [
    "data = 'archive/vodclickstream_uk_movies_03.csv'\n",
    "df = pd.read_csv(data, sep=',', header=0, index_col=0)\n",
    "df = df[df.genres != 'NOT AVAILABLE']"
   ]
  },
  {
   "cell_type": "markdown",
   "metadata": {},
   "source": [
    "Lets see how this works for a random user. We choose the `user_id` *'ffff2c5f9e'*."
   ]
  },
  {
   "cell_type": "code",
   "execution_count": 84,
   "metadata": {},
   "outputs": [
    {
     "data": {
      "text/plain": [
       "title              genres                           \n",
       "Forks Over Knives  Documentary                          1\n",
       "Hot Fuzz           Action, Comedy, Mystery, Thriller    1\n",
       "dtype: int64"
      ]
     },
     "execution_count": 84,
     "metadata": {},
     "output_type": "execute_result"
    }
   ],
   "source": [
    "target_user = 'ffff2c5f9e'\n",
    "\n",
    "#Show the movies watched by the target user\n",
    "df[df.user_id == target_user].groupby(['title', 'genres']).size().sort_values(ascending=False)[:10]"
   ]
  },
  {
   "cell_type": "markdown",
   "metadata": {},
   "source": [
    "Now let's use the `Recommend` function to recommend at most five movies to the user."
   ]
  },
  {
   "cell_type": "code",
   "execution_count": 100,
   "metadata": {},
   "outputs": [
    {
     "name": "stdout",
     "output_type": "stream",
     "text": [
      "['The Woman with 7 Personalities', 'Natascha Kampusch: The Whole Story']\n"
     ]
    }
   ],
   "source": [
    "recommended_movies, similar_users = Recomend(target_user, signatures, user_movie_clicks)\n",
    "print(recommended_movies)"
   ]
  },
  {
   "cell_type": "code",
   "execution_count": 107,
   "metadata": {},
   "outputs": [
    {
     "data": {
      "text/plain": [
       "title                               genres                           \n",
       "Hot Fuzz                            Action, Comedy, Mystery, Thriller    2\n",
       "Natascha Kampusch: The Whole Story  Documentary                          1\n",
       "dtype: int64"
      ]
     },
     "execution_count": 107,
     "metadata": {},
     "output_type": "execute_result"
    }
   ],
   "source": [
    "df[df.user_id == similar_users.index[0]].groupby(['title', 'genres']).size().sort_values(ascending=False)[:10]"
   ]
  },
  {
   "cell_type": "code",
   "execution_count": 108,
   "metadata": {},
   "outputs": [
    {
     "data": {
      "text/plain": [
       "title                           genres                           \n",
       "Hot Fuzz                        Action, Comedy, Mystery, Thriller    1\n",
       "The Woman with 7 Personalities  Documentary                          1\n",
       "dtype: int64"
      ]
     },
     "execution_count": 108,
     "metadata": {},
     "output_type": "execute_result"
    }
   ],
   "source": [
    "df[df.user_id == similar_users.index[1]].groupby(['title', 'genres']).size().sort_values(ascending=False)[:10]"
   ]
  },
  {
   "cell_type": "markdown",
   "metadata": {},
   "source": [
    "We see that the genres of the movies recommended are the same as the genres of the movies clicked by the user. Moreover, the movies recommended are the most clicked movies by the two most similar users and the movies already clicked on by the user are not recommended."
   ]
  },
  {
   "cell_type": "markdown",
   "metadata": {},
   "source": [
    "# 5. Algorithmic Question"
   ]
  },
  {
   "cell_type": "markdown",
   "metadata": {},
   "source": [
    "### 5.a) Fortunately, you have a computer app designed by a brilliant student. Federico wants you to show him the code which this app is based on because he wants to do paid counseling for other desperate students: in a recursive fashion, the helped helps the helpable."
   ]
  },
  {
   "cell_type": "markdown",
   "metadata": {},
   "source": [
    "The first version of the code of the app is the following:"
   ]
  },
  {
   "cell_type": "code",
   "execution_count": null,
   "metadata": {},
   "outputs": [],
   "source": [
    "from itertools import permutations\n",
    "import numpy as np\n",
    "\n",
    "# Function to find the highest score\n",
    "def highest_score(S, marks):\n",
    "    # Convert marks to numpy array\n",
    "    marks = np.array(marks)\n",
    "    \n",
    "    # Iterate through the marks\n",
    "    while len(marks):\n",
    "        p = marks[0]\n",
    "        # Check if the mark is greater or smaller than the current score\n",
    "        if p > S:\n",
    "            diff = p - S\n",
    "            # Update the score\n",
    "            S = p\n",
    "            # Delete the mark from the array\n",
    "            marks = np.delete(marks, np.where(marks == p))\n",
    "            # Update the marks\n",
    "            marks = marks - diff\n",
    "        else:\n",
    "            diff = S - p\n",
    "            # Update the score\n",
    "            S = p\n",
    "            # Delete the mark from the array\n",
    "            marks = np.delete(marks, np.where(marks == p))\n",
    "            # Update the marks\n",
    "            marks = marks + diff\n",
    "    return S\n",
    "\n",
    "S = 8\n",
    "marks = [1, 5, 7]\n",
    "\n",
    "# Initialize the max score and index\n",
    "max_score = 0\n",
    "ind = 0\n",
    "# Find all the permutations\n",
    "perms = list(permutations(marks, len(marks)))\n",
    "# Iterate through the permutations\n",
    "for num, i in enumerate(perms):\n",
    "    # Find the highest score\n",
    "    score = highest_score(S, i)\n",
    "    if score > max_score:\n",
    "        max_score = score\n",
    "        ind = num\n",
    "print(max_score, perms[ind])"
   ]
  },
  {
   "cell_type": "markdown",
   "metadata": {},
   "source": [
    "### 5.b) Federico is getting angry because he claims that your code is slow! Show him formally with a big-O notation that he is as crazy as this university!"
   ]
  },
  {
   "cell_type": "markdown",
   "metadata": {},
   "source": [
    "Federico is right, this code is very slow. Indeed, it is enough to consider that in order to compute all possible permutations, the algorithm has to perform $n!$ operations. This is a factorial, and it grows very fast. For example, if $n=10$, the algorithm has to perform $10! = 3,628,800$ operations. If $n=20$, the algorithm has to perform $20! = 2,432,902,008,176,640,000$ operations. Thus the complexity of the algorithm is $O(n!)$."
   ]
  },
  {
   "cell_type": "markdown",
   "metadata": {},
   "source": [
    "### 5.c) If, unfortunately, Federico is right in the grip of madness, he will threaten you to optimize the code through a different approach. You should end this theater of the absurd by any means! (And again, formally prove that you improved time complexity)"
   ]
  },
  {
   "cell_type": "markdown",
   "metadata": {},
   "source": [
    "We update the code and create a recursive function that doesn't consider all permutations, but handles them in a \"smart\" way. "
   ]
  },
  {
   "cell_type": "code",
   "execution_count": null,
   "metadata": {},
   "outputs": [],
   "source": [
    "import numpy as np\n",
    "# Recursive function to find the highest score\n",
    "def highest_score_recursive(S, marks):\n",
    "    # Convert marks to numpy array\n",
    "    marks = np.array(marks) # O(n)\n",
    "    \n",
    "    # Base case\n",
    "    if len(marks) == 1: # O(1)\n",
    "        return marks[0] # O(1)\n",
    "    \n",
    "    # Initialize the max score\n",
    "    max_score = S # O(1)\n",
    "    \n",
    "    # Iterate through the marks\n",
    "    for i in marks: # O(n)\n",
    "        # Check if the mark is greater or smaller than the current score\n",
    "        if i > S: # O(1)\n",
    "            diff = i - S # O(1)\n",
    "            # Update the marks\n",
    "            marks1 = marks[marks != i] - diff # O(n)\n",
    "            # Update the score\n",
    "            S1 = i # O(1)\n",
    "        else:\n",
    "            diff = S - i # O(1)\n",
    "            # Update the marks\n",
    "            marks1 = marks[marks != i] + diff # O(n)\n",
    "            # Update the score\n",
    "            S1 = i # O(1)\n",
    "        \n",
    "        # Check if the length of the marks is even or odd\n",
    "        if len(marks) % 2 == 0: # O(1)\n",
    "            # Check if the marks are all smaller than the current score\n",
    "            if all(marks1 < S1): #O(n)\n",
    "                continue\n",
    "            else:\n",
    "                diff = max(marks1) - S1 # O(n)\n",
    "                # Update the marks\n",
    "                marks2 = marks1[marks1 != max(marks1)] - diff # O(n)\n",
    "                # Update the score\n",
    "                S2 = max(marks1) # O(n)\n",
    "                # Find the highest score recursively\n",
    "                max_score = max(max_score, highest_score_recursive(S2, marks2)) # * T(n-2)\n",
    "        else:\n",
    "            # Check if the marks are all greater than the current score\n",
    "            if all(marks1 > S1): # O(n)\n",
    "                continue\n",
    "            else:\n",
    "                diff = S1 - min(marks1) # O(n)\n",
    "                # Update the marks\n",
    "                marks2 = marks1[marks1 != min(marks1)] + diff # O(n)\n",
    "                # Update the score\n",
    "                S2 = min(marks1) # O(n)\n",
    "                # Find the highest score recursively\n",
    "                max_score = max(max_score, highest_score_recursive(S2, marks2)) # * T(n-2)\n",
    "                \n",
    "    return max_score\n",
    "\n",
    "# Example usage with different S and marks lists\n",
    "S1 = 8\n",
    "marks1 = [1, 5, 7]\n",
    "result1 = highest_score_recursive(S1, marks1)\n",
    "print(\"The highest possible score for list 1 is:\", result1)\n",
    "\n",
    "S2 = 25\n",
    "marks2 = [18, 24, 21, 32, 27]\n",
    "result2 = highest_score_recursive(S2, marks2)\n",
    "print(\"The highest possible score for list 2 is:\", result2)\n",
    "\n",
    "S3 = 30\n",
    "marks3 = [13, 27, 41, 59, 28, 33, 39, 19, 52, 48, 55, 79]\n",
    "result3 = highest_score_recursive(S3, marks3)\n",
    "print(\"The highest possible score for list 3 is:\", result3)"
   ]
  },
  {
   "cell_type": "code",
   "execution_count": null,
   "metadata": {},
   "outputs": [],
   "source": [
    "%timeit highest_score_recursive(S3, marks3)"
   ]
  },
  {
   "cell_type": "markdown",
   "metadata": {},
   "source": [
    "This code is already way faster than the first one. Let's compute the time complexity.\n",
    "\n",
    "We denote the length of the `marks` list by $n$. \n",
    "- **Base case** (when $n=1$): in this case, the function returns `marks[0]`. This is a constant operation, so it is $O(1)$.\n",
    "- **General case**: the function iterates through the `marks` list and performs certain operations for each element and then it calls itself recusrively for each element. In the worst case, for each element in the list, the function will create a new list of `marks` of length $n-2$ and call itself, generating a *recursive tree*. For both even and odd lists of `marks`, the height of the tree will be $\\frac{n}{2}$. The number of nodes in the tree will be $n * (n-2) * (n-4) * ... * 1 = n!!$. Thus the number of recursive calls will be $n!!$. \n",
    "    - **Operations within each recursive call**: operations like array manipulations and finding minimum or maximum values within the list take $O(n)$ time in the worst case because they might need to traverse the entire list once.\n",
    "\n",
    "The overall time complexity would be $O$(operations within each call × number of recursive calls).\n",
    "Thus the overall time complexity of the algorithm is $O(n!!)$ as this is the term that dominates. Indeed,\n",
    "$$\n",
    "T(n) = T(n-2) * O(n) + O(n) \\implies T(n) = T(n-4) * O(n-2) * O(n^2) + O(n) \n",
    "\\\\\n",
    "\\implies T(n) = T(n-6) * O(n-4) * O(n-2) * O(n) \\implies ... \\implies T(n) = T(1) * O(3) * O(5) * ... * O(n-2) * O(n) \\implies T(n) = O(n!!)\n",
    "$$\n"
   ]
  },
  {
   "cell_type": "markdown",
   "metadata": {},
   "source": [
    "This is already a good improvement from before, indeed, if $n=10$, the algorithm has to perform $10!! = 3840$ operations, which is much less than $10! = 3,628,800$ operations. If $n=20$, the algorithm has to perform $20!! = 3715891200$ operations, which is much less than $20! = 2,432,902,008,176,640,000$ operations. However, this is still a very slow algorithm and we now we can do better, so before Federico gets even more angry, let's try to improve it even more.\n",
    "\n",
    "One way to do so, could be using dynamic programming, in particular memoization. We can store the results of the recursive calls in a dictionary and use them to avoid recomputing the same results multiple times. This way, we can reduce the time complexity."
   ]
  },
  {
   "cell_type": "code",
   "execution_count": 19,
   "metadata": {},
   "outputs": [
    {
     "name": "stdout",
     "output_type": "stream",
     "text": [
      "The highest possible score for list 1 is: 11\n",
      "The highest possible score for list 2 is: 44\n",
      "The highest possible score for list 3 is: 205\n"
     ]
    }
   ],
   "source": [
    "# Recursive function to find the highest score with memoization\n",
    "def highest_score_recursive(S, marks, memo={}):\n",
    "    \n",
    "    # Convert marks to tuple to use as dictionary key\n",
    "    marks = tuple(sorted(marks))\n",
    "    \n",
    "    # Check if result is already in memo\n",
    "    if (S, marks) in memo:\n",
    "        return memo[(S, marks)]\n",
    "    \n",
    "    # Base case\n",
    "    if len(marks) == 1:\n",
    "        return marks[0]\n",
    "    \n",
    "    # Initialize the max score\n",
    "    max_score = S\n",
    "    \n",
    "    # Iterate through the marks\n",
    "    for i in marks:\n",
    "        # Check if the mark is greater or smaller than the current score\n",
    "        if i > S:\n",
    "            diff = i - S\n",
    "            # Update the marks\n",
    "            marks1 = [m for m in marks if m != i]\n",
    "            marks1 = [m - diff for m in marks1]\n",
    "            # Update the score\n",
    "            S1 = i      \n",
    "        else:\n",
    "            diff = S - i\n",
    "            # Update the marks\n",
    "            marks1 = [m for m in marks if m != i]\n",
    "            marks1 = [m + diff for m in marks1]\n",
    "            # Update the score\n",
    "            S1 = i\n",
    "        \n",
    "        # Check if the length of the marks is even or odd\n",
    "        if len(marks) % 2 == 0:\n",
    "            # Check if the marks are all smaller than the current score\n",
    "            if all(m < S1 for m in marks1):\n",
    "                continue\n",
    "            else:\n",
    "                diff = max(marks1) - S1\n",
    "                # Update the marks\n",
    "                marks2 = [m for m in marks1 if m != max(marks1)]\n",
    "                marks2 = [m - diff for m in marks2]\n",
    "                # Update the score\n",
    "                S2 = max(marks1)\n",
    "                # Find the highest score recursively\n",
    "                max_score = max(max_score, highest_score_recursive(S2, marks2, memo))\n",
    "        else:\n",
    "            # Check if the marks are all greater than the current score\n",
    "            if all(m > S1 for m in marks1):\n",
    "                continue\n",
    "            else:\n",
    "                diff = S1 - min(marks1)\n",
    "                # Update the marks\n",
    "                marks2 = [m for m in marks1 if m != min(marks1)]\n",
    "                marks2 = [m + diff for m in marks2]\n",
    "                # Update the score\n",
    "                S2 = min(marks1)\n",
    "                # Find the highest score recursively\n",
    "                max_score = max(max_score, highest_score_recursive(S2, marks2, memo))\n",
    "    \n",
    "    # Store result in memo before returning\n",
    "    memo[(S, marks)] = max_score\n",
    "    return max_score\n",
    "\n",
    "\n",
    "# Example usage with different S and marks lists\n",
    "S1 = 8\n",
    "marks1 = [1, 5, 7]\n",
    "result1 = highest_score_recursive(S1, marks1)\n",
    "print(\"The highest possible score for list 1 is:\", result1)\n",
    "\n",
    "\n",
    "S2 = 25\n",
    "marks2 = [18, 24, 21, 32, 27]\n",
    "result2 = highest_score_recursive(S2, marks2)\n",
    "print(\"The highest possible score for list 2 is:\", result2)\n",
    "\n",
    "S3 = 30\n",
    "marks3 = [13, 27, 41, 59, 28, 33, 39, 19, 52, 48, 55, 79]\n",
    "result3 = highest_score_recursive(S3, marks3)\n",
    "print(\"The highest possible score for list 3 is:\", result3)"
   ]
  },
  {
   "cell_type": "code",
   "execution_count": 20,
   "metadata": {},
   "outputs": [
    {
     "name": "stdout",
     "output_type": "stream",
     "text": [
      "802 ns ± 77.9 ns per loop (mean ± std. dev. of 7 runs, 1,000,000 loops each)\n"
     ]
    }
   ],
   "source": [
    "%timeit highest_score_recursive(S3, marks3)"
   ]
  },
  {
   "cell_type": "markdown",
   "metadata": {},
   "source": [
    "This code is noticeably faster than the previous one. However, if the `marks` list is very long, the recursive tree will still be very deep and the algorithm will still be slow. Indeed, in the worst case, if not enough results are stored in the dictionary, the algorithm will still have to perform $n!!$ operations.\n",
    "We need an approach that doesn't require a recursive tree if we want to handle very long lists of `marks`."
   ]
  },
  {
   "cell_type": "code",
   "execution_count": 52,
   "metadata": {},
   "outputs": [
    {
     "name": "stdout",
     "output_type": "stream",
     "text": [
      "The highest possible score for list 1 is: 11\n",
      "The highest possible score for list 2 is: 44\n",
      "The highest possible score for list 3 is: 205\n"
     ]
    }
   ],
   "source": [
    "import numpy as np\n",
    "def highest_score_opt(S, marks):\n",
    "    \n",
    "    pd = len(marks) # O(1)\n",
    "    marks = np.array(marks) # O(n)\n",
    "    \n",
    "    index = 0 # O(1)\n",
    "    while len(marks): # O(n)\n",
    "        index += 1 # O(1)\n",
    "        if (index % 2 == 0 and pd % 2 == 0) or (index % 2 != 0 and pd % 2 != 0): # O(1)\n",
    "            p = max(marks) # O(n)\n",
    "        else:\n",
    "            p = min(marks) # O(n)\n",
    "            \n",
    "        if p > S: # O(1)\n",
    "            marks = marks[marks != p] - (p - S) # O(n)\n",
    "            S = p # O(1)\n",
    "        else:\n",
    "            marks = marks[marks != p] + (S - p) # O(n)\n",
    "            S = p # O(1)\n",
    "    return S\n",
    "\n",
    "S1 = 8\n",
    "marks1 = [1, 5, 7]\n",
    "result1 = highest_score_opt(S1, marks1)\n",
    "print(\"The highest possible score for list 1 is:\", result1)\n",
    "\n",
    "\n",
    "S2 = 25\n",
    "marks2 = [18, 24, 21, 32, 27]\n",
    "result2 = highest_score_opt(S2, marks2)\n",
    "print(\"The highest possible score for list 2 is:\", result2)\n",
    "\n",
    "S3 = 30\n",
    "marks3 = [13, 27, 41, 59, 28, 33, 39, 19, 52, 48, 55, 79]\n",
    "result3 = highest_score_opt(S3, marks3)\n",
    "print(\"The highest possible score for list 3 is:\", result3)"
   ]
  },
  {
   "cell_type": "code",
   "execution_count": 53,
   "metadata": {},
   "outputs": [
    {
     "name": "stdout",
     "output_type": "stream",
     "text": [
      "127 µs ± 9.87 µs per loop (mean ± std. dev. of 7 runs, 10,000 loops each)\n"
     ]
    }
   ],
   "source": [
    "%timeit highest_score(S3, marks3)"
   ]
  },
  {
   "cell_type": "markdown",
   "metadata": {},
   "source": [
    "The while loop is the most significant part of the code in terms of time complexity. It runs n times, where n is the length of the input list `marks`. Inside the loop, there are operations that also run in $O(n)$ time, such as `max(marks)`, `min(marks)`, and the array slicing and subtraction operations. \n",
    "\n",
    "Since these $O(n)$ operations are inside the loop that runs n times the overall time complexity is $O(n^2)$ for the while loop.\n",
    "\n",
    "All other operations outside the loop run in constant time, $O(1)$.\n",
    "\n",
    "So, the overall time complexity of the function is dominated by the while loop, which is $O(n^2)$."
   ]
  },
  {
   "cell_type": "markdown",
   "metadata": {},
   "source": [
    "### 5.d) Ask chatGPT for a third (optimized) implementation and analyze again its time complexity. Be careful (and crafty) in defining the prompt, and challenge the machine in this coding question!"
   ]
  },
  {
   "cell_type": "code",
   "execution_count": 99,
   "metadata": {},
   "outputs": [
    {
     "name": "stdout",
     "output_type": "stream",
     "text": [
      "The highest possible score for list 1 is: -1\n",
      "The highest possible score for list 2 is: 4\n",
      "The highest possible score for list 3 is: -145\n"
     ]
    }
   ],
   "source": [
    "import numpy as np\n",
    "import heapq\n",
    "from sortedcontainers import SortedSet\n",
    "\n",
    "def highest_score_opt(S, marks):\n",
    "    pd = len(marks)\n",
    "    marks = np.array(marks)\n",
    "    \n",
    "    min_heap = list(marks)\n",
    "    heapq.heapify(min_heap)\n",
    "    \n",
    "    max_heap = SortedSet(marks)\n",
    "    \n",
    "    index = 0\n",
    "    while min_heap and max_heap:\n",
    "        if (index % 2 == 0 and pd % 2 == 0) or (index % 2 != 0 and pd % 2 != 0):\n",
    "            max_mark = max_heap.pop()\n",
    "            min_heap = [mark - (max_mark - S) for mark in min_heap if mark != max_mark]\n",
    "            max_heap = SortedSet(min_heap)\n",
    "            S = max_mark\n",
    "        else:\n",
    "            min_mark = heapq.heappop(min_heap)\n",
    "            min_heap = [mark + (S - min_mark) for mark in min_heap]\n",
    "            max_heap = SortedSet(min_heap)\n",
    "            S = min_mark\n",
    "        index += 1\n",
    "    return S\n",
    "\n",
    "S1 = 8\n",
    "marks1 = [1, 5, 7]\n",
    "result1 = highest_score_opt(S1, marks1)\n",
    "print(\"The highest possible score for list 1 is:\", result1)\n",
    "\n",
    "\n",
    "S2 = 25\n",
    "marks2 = [18, 24, 21, 32, 27]\n",
    "result2 = highest_score_opt(S2, marks2)\n",
    "print(\"The highest possible score for list 2 is:\", result2)\n",
    "\n",
    "S3 = 30\n",
    "marks3 = [13, 27, 41, 59, 28, 33, 39, 19, 52, 48, 55, 79]\n",
    "result3 = highest_score_opt(S3, marks3)\n",
    "print(\"The highest possible score for list 3 is:\", result3)"
   ]
  }
 ],
 "metadata": {
  "kernelspec": {
   "display_name": "Python 3",
   "language": "python",
   "name": "python3"
  },
  "language_info": {
   "codemirror_mode": {
    "name": "ipython",
    "version": 3
   },
   "file_extension": ".py",
   "mimetype": "text/x-python",
   "name": "python",
   "nbconvert_exporter": "python",
   "pygments_lexer": "ipython3",
   "version": "3.11.4"
  }
 },
 "nbformat": 4,
 "nbformat_minor": 2
}
